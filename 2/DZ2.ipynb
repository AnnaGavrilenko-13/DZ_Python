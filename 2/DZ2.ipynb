{
 "cells": [
  {
   "cell_type": "code",
   "execution_count": 6,
   "metadata": {},
   "outputs": [],
   "source": [
    "Задание 1. Даны 2 строки: long_phrase и short_phrase. \n",
    "Напишите код, который проверяет действительно ли длинная фраза long_phrase длиннее короткой short_phrase. \n",
    "И выводит True или False в зависимости от результата сравнения."
   ]
  },
  {
   "cell_type": "code",
   "execution_count": 3,
   "metadata": {},
   "outputs": [],
   "source": [
    "long_phrase = 'Насколько проще было бы писать программы, если бы не заказчики'\n",
    "short_phrase = '640Кб должно хватить для любых задач. Билл Гейтс (по легенде)'"
   ]
  },
  {
   "cell_type": "code",
   "execution_count": 7,
   "metadata": {},
   "outputs": [
    {
     "data": {
      "text/plain": [
       "True"
      ]
     },
     "execution_count": 7,
     "metadata": {},
     "output_type": "execute_result"
    }
   ],
   "source": [
    "long_phrase > short_phrase"
   ]
  },
  {
   "cell_type": "code",
   "execution_count": null,
   "metadata": {},
   "outputs": [],
   "source": [
    "Задание 2. Дано значение объема файла в байтах (в мегабайте 2^20 байт). \n",
    "Напишите перевод этого значения в мегабайты в формате: \"Объем файла равен 213.68Mb\"."
   ]
  },
  {
   "cell_type": "code",
   "execution_count": 14,
   "metadata": {},
   "outputs": [
    {
     "name": "stdout",
     "output_type": "stream",
     "text": [
      "Введите вес файла в байтах 500\n",
      "Объем файла в мегабайтах  0.0005\n"
     ]
    }
   ],
   "source": [
    "number = int(input('Введите вес файла в байтах '))\n",
    "print('Объем файла в мегабайтах ', number * 0.000001)"
   ]
  },
  {
   "cell_type": "code",
   "execution_count": null,
   "metadata": {},
   "outputs": [],
   "source": [
    "Задание 3. Разработать приложение для определения знака зодиака по дате рождения. "
   ]
  },
  {
   "cell_type": "code",
   "execution_count": 34,
   "metadata": {},
   "outputs": [
    {
     "name": "stdout",
     "output_type": "stream",
     "text": [
      "Введите номер месяца рождения 6\n",
      "Введите дату рождения 3\n",
      "Близнецы\n"
     ]
    }
   ],
   "source": [
    "month = int(input('Введите номер месяца рождения '))\n",
    "date = int(input('Введите дату рождения '))\n",
    "if month == 3 and 21 <= date <= 31:\n",
    "    print('Овен')\n",
    "elif month == 4 and 1 <= date <= 20:\n",
    "    print('Овен') \n",
    "elif month == 4 and 21 <= date <= 30:\n",
    "    print('Телец')\n",
    "elif month == 5 and 1 <= date <= 20:\n",
    "    print('Телец')\n",
    "elif month == 5 and 21 <= date <= 31:\n",
    "    print('Близнецы')\n",
    "elif month == 6 and 1 <= date <= 20:\n",
    "    print('Близнецы')\n",
    "elif month == 6 and 21 <= date <= 30:\n",
    "    print('Рак') \n",
    "elif month == 7 and 1 <= date <= 22:\n",
    "    print('Рак')  \n",
    "elif month == 7 and 23 <= date <= 31:\n",
    "    print('Лев') \n",
    "elif month == 8 and 1 <= date <= 22:\n",
    "    print('Лев')  \n",
    "elif month == 8 and 23 <= date <= 31:\n",
    "    print('Дева')\n",
    "elif month == 9 and 1 <= date <= 22:\n",
    "    print('Дева')\n",
    "elif month == 9 and 23 <= date <= 30:\n",
    "    print('Весы')\n",
    "elif month == 10 and 1 <= date <= 22:\n",
    "    print('Весы')\n",
    "elif month == 10 and 23 <= date <= 31:\n",
    "    print('Скорпион')\n",
    "elif month == 11 and 1 <= date <= 22:\n",
    "    print('Скорпион')\n",
    "elif month == 11 and 23 <= date <= 30:\n",
    "    print('Стрелец')\n",
    "elif month == 12 and 1 <= date <= 21:\n",
    "    print('Стрелец')\n",
    "elif month == 12 and 22 <= date <= 31:\n",
    "    print('Козерог')\n",
    "elif month == 1 and 1 <= date <= 19:\n",
    "    print('Козерог')\n",
    "elif month == 1 and 20 <= date <= 31:\n",
    "    print('Водолей')\n",
    "elif month == 2 and 1 <= date <= 19:\n",
    "    print('Водолей')\n",
    "elif month == 2 and 20 <= date <= 29:\n",
    "    print('Рыбы')\n",
    "elif month == 3 and 1 <= date <= 20:\n",
    "    print('Рыбы') \n",
    "else:\n",
    "    print('некорректный месяц или дата')"
   ]
  },
  {
   "cell_type": "code",
   "execution_count": null,
   "metadata": {},
   "outputs": [],
   "source": [
    "Задание 4. Нужно разработать приложение для финансового планирования. \n",
    "Приложение учитывает сколько уходит на ипотеку, \"на жизнь\" и сколько нужно отложить на пенсию. \n",
    "\n",
    "Пользователь вводит:\n",
    "\n",
    "заработанную плату в месяц.\n",
    "сколько процентов от ЗП уходит на ипотеку.\n",
    "сколько процентов от ЗП уходит \"на жизнь\".\n",
    "сколько раз приходит премия в год.\n",
    "Остальная часть заработанной платы откладывается на пенсию.\n",
    "\n",
    "Также пользователю приходит премия в размере зарплаты, от которой половина уходит на отпуск, \n",
    "а вторая половина откладывается.\n",
    "\n",
    "Программа должна учитывать сколько премий было в год.\n",
    "\n",
    "Нужно вывести сколько денег тратит пользователь на ипотеку и сколько он накопит за год.\n",
    "\n",
    "Пример:\n",
    "Введите заработанную плату в месяц: 100000\n",
    "Введите сколько процентов уходит на ипотеку: 30\n",
    "Введите сколько процентов уходит на жизнь: 50\n",
    "Введите количество премий за год: 2\n",
    "Вывод: На ипотеку было потрачено: 360000 рублей Было накоплено: 340000 рублей"
   ]
  },
  {
   "cell_type": "code",
   "execution_count": null,
   "metadata": {},
   "outputs": [],
   "source": [
    "zp = int(input('Введите заработанную плату за месяц '))\n",
    "ipoteka = int(input('Сколько процентов от ЗП уходит на ипотеку '))\n",
    "live = int(input('Сколько процентов от ЗП уходит на жизнь '))\n",
    "bonus = int(input('Сколько раз приходит премия в год '))\n",
    "print('На ипотеку было потрачено: ', zp * (ipoteka/100) * 12)\n",
    "print('Было накоплено: ', ((1 - (ipoteka / 100) - (live / 100)) * 12 + (zp * bonus)))"
   ]
  },
  {
   "cell_type": "code",
   "execution_count": null,
   "metadata": {},
   "outputs": [],
   "source": []
  },
  {
   "cell_type": "code",
   "execution_count": null,
   "metadata": {},
   "outputs": [],
   "source": []
  }
 ],
 "metadata": {
  "kernelspec": {
   "display_name": "Python 3",
   "language": "python",
   "name": "python3"
  },
  "language_info": {
   "codemirror_mode": {
    "name": "ipython",
    "version": 3
   },
   "file_extension": ".py",
   "mimetype": "text/x-python",
   "name": "python",
   "nbconvert_exporter": "python",
   "pygments_lexer": "ipython3",
   "version": "3.7.6"
  }
 },
 "nbformat": 4,
 "nbformat_minor": 4
}
